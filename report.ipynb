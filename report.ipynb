{
 "cells": [
  {
   "cell_type": "markdown",
   "metadata": {},
   "source": [
    "# Rapport"
   ]
  },
  {
   "cell_type": "markdown",
   "metadata": {},
   "source": [
    "### Introduksjon"
   ]
  },
  {
   "cell_type": "markdown",
   "metadata": {},
   "source": [
    "Jeg har valgt alternativ 1, \"løse virkelige problemer ved å bruke LLM\". Problemstillingene jeg vurderte var flere, og jeg vurderte blant annet muligheten for å automatisere analysen beskrevet i alternativ 2. En slik løsning kunne spart en dataviter for mye tid brukt på repeterende dataanalyser. Valget mitt falt imidlertid tilbake på en chatbot, eller mer konkret: en SQL-agent/chatbot som automatisk kan generere SQL-spørringer fra naturlige språkspørsmål. Målet med oppgaven er å demonstrere hvordan man effektivt kan bruke moderne verktøy som LangChain, Groq og Streamlit for å lage en velfungerende løsning innenfor tidsbegrensningene."
   ]
  },
  {
   "cell_type": "markdown",
   "metadata": {},
   "source": [
    "### Planleggingsfase"
   ]
  },
  {
   "cell_type": "markdown",
   "metadata": {},
   "source": [
    "Jeg starter med å utføre en MoSCoW analyse av prosjektet for å få et overordnet blikk av hva jeg skal ha med, burde ha med, kan ha med og det jeg ikke skal ha med. Dette kan spare meg tid og hjelpe meg med å lage konrete oppgaver. "
   ]
  },
  {
   "cell_type": "markdown",
   "metadata": {},
   "source": [
    "| Kategori    | Beskrivelse                                          |\n",
    "|-------------|------------------------------------------------------|\n",
    "| **Must Have**   | - Databaser (kartdata)<br>- Lokal/vektor embedding<br>- Språkmodell<br>- Test og trenings data (geodata)<br>- Spesifikk test og trenings data til datasettet<br>- Databeskyttelse |\n",
    "| **Should Have** | - Frontend<br>- Norsk og engelsk<br>- Tilbakemelding fra chatboten ved \"feil\" input<br>- Returnere query / sikkerhetsprosent på svar<br>- Raske svar |\n",
    "| **Could Have**  | - Vise informasjon i kart<br>- Chat-minne<br>- Se på data fra bestemt tid<br>- Generalisere over flere kartdata/databaser |\n",
    "| **Won't Have**  | - Tale<br>- Feil/urelevant svar<br>- Real time oppdatering<br>- App |\n"
   ]
  }
 ],
 "metadata": {
  "language_info": {
   "name": "python"
  }
 },
 "nbformat": 4,
 "nbformat_minor": 2
}
